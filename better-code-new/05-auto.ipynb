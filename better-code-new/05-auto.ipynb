{
 "cells": [
  {
   "cell_type": "code",
   "execution_count": 1,
   "metadata": {
    "slideshow": {
     "slide_type": "skip"
    }
   },
   "outputs": [],
   "source": [
    "#include \"../common.hpp\"\n",
    "#include <initializer_list>\n",
    "\n",
    "using namespace std;"
   ]
  },
  {
   "cell_type": "markdown",
   "metadata": {
    "slideshow": {
     "slide_type": "slide"
    }
   },
   "source": [
    "# auto\n",
    "\n",
    "- Prior to C++11, the keyword `auto` was a storage class specifier\n",
    "    - But rarely used"
   ]
  },
  {
   "cell_type": "code",
   "execution_count": 2,
   "metadata": {
    "slideshow": {
     "slide_type": "fragment"
    }
   },
   "outputs": [
    {
     "name": "stderr",
     "output_type": "stream",
     "text": [
      "\u001b[1minput_line_9:2:5: \u001b[0m\u001b[0;1;35mwarning: \u001b[0m\u001b[1m'auto' storage class specifier is not permitted in C++11, and will not be supported in future releases [-Wauto-storage-class]\u001b[0m\n",
      "    auto int i = 42;\n",
      "\u001b[0;1;32m    ^~~~~\n",
      "\u001b[0m"
     ]
    }
   ],
   "source": [
    "void f() {\n",
    "    auto int i = 42;\n",
    "}"
   ]
  },
  {
   "cell_type": "markdown",
   "metadata": {
    "slideshow": {
     "slide_type": "slide"
    }
   },
   "source": [
    "## auto variable declarations\n",
    "\n",
    "`auto` can be used in a variable declaration.\n",
    "\n",
    "- `auto` alone will always deduce to an object type (not a reference, or const type)"
   ]
  },
  {
   "cell_type": "code",
   "execution_count": 3,
   "metadata": {
    "slideshow": {
     "slide_type": "fragment"
    }
   },
   "outputs": [
    {
     "name": "stdout",
     "output_type": "stream",
     "text": [
      "int const&\n",
      "int\n"
     ]
    }
   ],
   "source": [
    "const int& a = 42;\n",
    "auto b = a;\n",
    "    \n",
    "type_name<decltype(a)>();\n",
    "type_name<decltype(b)>();"
   ]
  },
  {
   "cell_type": "markdown",
   "metadata": {
    "slideshow": {
     "slide_type": "slide"
    }
   },
   "source": [
    "- cv-qualifiers and reference modifiers can be combined with auto"
   ]
  },
  {
   "cell_type": "code",
   "execution_count": 4,
   "metadata": {
    "slideshow": {
     "slide_type": "fragment"
    }
   },
   "outputs": [
    {
     "name": "stdout",
     "output_type": "stream",
     "text": [
      "int const\n",
      "int const&\n"
     ]
    }
   ],
   "source": [
    "const auto c = b;\n",
    "const auto& d = b;\n",
    "\n",
    "type_name<decltype(c)>();\n",
    "type_name<decltype(d)>();"
   ]
  },
  {
   "cell_type": "markdown",
   "metadata": {
    "slideshow": {
     "slide_type": "slide"
    }
   },
   "source": [
    "- `decltype(auto)` can be used to declare a variable which matches the expression type"
   ]
  },
  {
   "cell_type": "code",
   "execution_count": 5,
   "metadata": {
    "slideshow": {
     "slide_type": "fragment"
    }
   },
   "outputs": [
    {
     "name": "stdout",
     "output_type": "stream",
     "text": [
      "int const&\n"
     ]
    }
   ],
   "source": [
    "decltype(auto) e = a;\n",
    "\n",
    "type_name<decltype(e)>();"
   ]
  },
  {
   "cell_type": "markdown",
   "metadata": {
    "slideshow": {
     "slide_type": "slide"
    }
   },
   "source": [
    "- `auto&&` is a forwarding reference\n",
    "- `decltype` is used with the `std::forward` template argument"
   ]
  },
  {
   "cell_type": "code",
   "execution_count": 6,
   "metadata": {
    "slideshow": {
     "slide_type": "fragment"
    }
   },
   "outputs": [],
   "source": [
    "namespace {\n",
    "\n",
    "annotate some_function() { return annotate(); }\n",
    "void some_sink(annotate) { }\n",
    "    \n",
    "} // namespace"
   ]
  },
  {
   "cell_type": "code",
   "execution_count": 7,
   "metadata": {
    "slideshow": {
     "slide_type": "fragment"
    }
   },
   "outputs": [
    {
     "name": "stdout",
     "output_type": "stream",
     "text": [
      "annotate ctor\n",
      "annotate move-ctor\n",
      "annotate dtor\n"
     ]
    }
   ],
   "source": [
    "auto&& q = some_function();\n",
    "some_sink(forward<decltype(q)>(q));"
   ]
  },
  {
   "cell_type": "markdown",
   "metadata": {
    "slideshow": {
     "slide_type": "slide"
    }
   },
   "source": [
    "## auto function results\n",
    "\n",
    "C++11 added trailing return types. This allows a return type which is dependent on an argument type."
   ]
  },
  {
   "cell_type": "code",
   "execution_count": 8,
   "metadata": {
    "slideshow": {
     "slide_type": "fragment"
    }
   },
   "outputs": [],
   "source": [
    "namespace {\n",
    "    \n",
    "int function_a();\n",
    "auto function_b() -> int; // same signature as function_a\n",
    "\n",
    "template <class T, class U>\n",
    "auto add(T a, U b) -> decltype(a + b) {\n",
    "    return a + b;\n",
    "}\n",
    "    \n",
    "} // namespace"
   ]
  },
  {
   "cell_type": "markdown",
   "metadata": {
    "slideshow": {
     "slide_type": "slide"
    }
   },
   "source": [
    "- C++14 allows the return type to be omitted for `template` and `inline` functions."
   ]
  },
  {
   "cell_type": "code",
   "execution_count": 9,
   "metadata": {
    "slideshow": {
     "slide_type": "fragment"
    }
   },
   "outputs": [],
   "source": [
    "inline auto mixed_add(unsigned a, signed b) {\n",
    "    return a + b;\n",
    "}\n",
    "\n",
    "auto r = mixed_add(42, -1);"
   ]
  },
  {
   "cell_type": "code",
   "execution_count": 10,
   "metadata": {
    "scrolled": true,
    "slideshow": {
     "slide_type": "fragment"
    }
   },
   "outputs": [
    {
     "name": "stdout",
     "output_type": "stream",
     "text": [
      "unsigned int\n",
      "41\n"
     ]
    }
   ],
   "source": [
    "type_name<decltype(r)>();\n",
    "cout << r << \"\\n\";"
   ]
  },
  {
   "cell_type": "markdown",
   "metadata": {
    "slideshow": {
     "slide_type": "slide"
    }
   },
   "source": [
    "- Using `decltype(auto)` for the return type preserves references and cv-qualifiers"
   ]
  },
  {
   "cell_type": "code",
   "execution_count": 11,
   "metadata": {
    "slideshow": {
     "slide_type": "fragment"
    }
   },
   "outputs": [],
   "source": [
    "namespace {\n",
    "    \n",
    "vector<int> v = { 0, 1, 2, 3 };\n",
    "\n",
    "inline decltype(auto) back() {\n",
    "    return v.back();\n",
    "}\n",
    "    \n",
    "} // namespace"
   ]
  },
  {
   "cell_type": "code",
   "execution_count": 12,
   "metadata": {
    "slideshow": {
     "slide_type": "fragment"
    }
   },
   "outputs": [
    {
     "name": "stdout",
     "output_type": "stream",
     "text": [
      "int&\n"
     ]
    }
   ],
   "source": [
    "type_name<decltype(back())>();"
   ]
  },
  {
   "cell_type": "markdown",
   "metadata": {
    "slideshow": {
     "slide_type": "slide"
    }
   },
   "source": [
    "## auto template parameters (C++17)\n",
    "\n",
    "- C++17 adds auto template parameters."
   ]
  },
  {
   "cell_type": "code",
   "execution_count": 13,
   "metadata": {
    "slideshow": {
     "slide_type": "fragment"
    }
   },
   "outputs": [],
   "source": [
    "namespace cpp14 {\n",
    "\n",
    "template <class T, T N>\n",
    "struct integral_constant {\n",
    "      static constexpr T value = N;\n",
    "};\n",
    "    \n",
    "using true_type = integral_constant<bool, true>;\n",
    "\n",
    "}"
   ]
  },
  {
   "cell_type": "markdown",
   "metadata": {
    "slideshow": {
     "slide_type": "slide"
    }
   },
   "source": [
    "- In C++17 this can be implemented without specifying the type.\n",
    "\n",
    "```cpp\n",
    "template <auto N>\n",
    "struct integral_constant {\n",
    "      static constexpr decltype(N) value = N;\n",
    "};\n",
    "\n",
    "using true_type = integral_constant<true>;\n",
    "```"
   ]
  },
  {
   "cell_type": "markdown",
   "metadata": {
    "slideshow": {
     "slide_type": "slide"
    }
   },
   "source": [
    "## structured bindings (C++17)\n",
    "\n",
    "- _structured bindings_ allow you to construct a set of objects from an array, tuple, _type like_, or class/struct public members\n",
    "\n",
    "```cpp\n",
    "auto [first_name, last_name] = make_pair(\"Jane\"s, \"Smith\"s);\n",
    "cout << last_name << \", \" << first_name << '\\n';\n",
    "```\n",
    "---\n",
    "```\n",
    "Smith, Jane\n",
    "```"
   ]
  },
  {
   "cell_type": "markdown",
   "metadata": {
    "slideshow": {
     "slide_type": "slide"
    }
   },
   "source": [
    "- simple handling of functions returning structures\n",
    "\n",
    "```cpp\n",
    "int a[] = { 0, 3, 4, 5, 5, 5, 6, 6, 7 };\n",
    "\n",
    "for(auto [f, l] = equal_range(begin(a), end(a), 5); f != l; ++f) {\n",
    "    cout << *f << '\\n';\n",
    "}\n",
    "```\n",
    "---\n",
    "```\n",
    "5\n",
    "5\n",
    "5\n",
    "```"
   ]
  },
  {
   "cell_type": "markdown",
   "metadata": {
    "slideshow": {
     "slide_type": "slide"
    }
   },
   "source": [
    "- deduction rules are different from other uses of `auto`\n",
    "    - each element is deduced to `decltype(e)` where is the corresponding member\n",
    "    \n",
    "```cpp\n",
    "int a = 1, b = 2;\n",
    "auto [x, y] = tie(a, b);\n",
    "\n",
    "x = 42;\n",
    "cout << a << endl;\n",
    "```\n",
    "---\n",
    "```\n",
    "42\n",
    "```"
   ]
  },
  {
   "cell_type": "markdown",
   "metadata": {
    "slideshow": {
     "slide_type": "fragment"
    }
   },
   "source": [
    "```cpp\n",
    "type_name<decltype(x)>();\n",
    "```\n",
    "---\n",
    "```\n",
    "int&\n",
    "```"
   ]
  },
  {
   "cell_type": "markdown",
   "metadata": {
    "slideshow": {
     "slide_type": "slide"
    }
   },
   "source": [
    "- can use const and reference qualifiers with structured bindings\n",
    "\n",
    "```cpp\n",
    "int a = 1, b = 2;\n",
    "const auto& [x, y] = tie(a, b);\n",
    "\n",
    "a = 42;\n",
    "cout << x << endl;\n",
    "```\n",
    "---\n",
    "```\n",
    "42\n",
    "```"
   ]
  },
  {
   "cell_type": "markdown",
   "metadata": {
    "slideshow": {
     "slide_type": "slide"
    }
   },
   "source": [
    "### limitations of structured bindings\n",
    "\n",
    "- no way to ignore an element\n",
    "- no way to reorder, or bind by name"
   ]
  },
  {
   "cell_type": "markdown",
   "metadata": {
    "slideshow": {
     "slide_type": "slide"
    }
   },
   "source": [
    "## auto lambda arguments (covered in lambda section)"
   ]
  },
  {
   "cell_type": "markdown",
   "metadata": {
    "slideshow": {
     "slide_type": "slide"
    }
   },
   "source": [
    "## Issue\n",
    "\n",
    "### Qualify with references appropriately"
   ]
  },
  {
   "cell_type": "code",
   "execution_count": 14,
   "metadata": {
    "slideshow": {
     "slide_type": "fragment"
    }
   },
   "outputs": [
    {
     "name": "stdout",
     "output_type": "stream",
     "text": [
      "annotate ctor\n",
      "annotate ctor\n",
      "annotate ctor\n",
      "annotate ctor\n",
      "annotate ctor\n"
     ]
    }
   ],
   "source": [
    "vector<annotate> w(5);"
   ]
  },
  {
   "cell_type": "code",
   "execution_count": 15,
   "metadata": {
    "slideshow": {
     "slide_type": "slide"
    }
   },
   "outputs": [
    {
     "name": "stdout",
     "output_type": "stream",
     "text": [
      "annotate copy-ctor\n",
      "annotate dtor\n",
      "annotate copy-ctor\n",
      "annotate dtor\n",
      "annotate copy-ctor\n",
      "annotate dtor\n",
      "annotate copy-ctor\n",
      "annotate dtor\n",
      "annotate copy-ctor\n",
      "annotate dtor\n"
     ]
    }
   ],
   "source": [
    "for (auto e : w) {\n",
    "    // do something\n",
    "}"
   ]
  },
  {
   "cell_type": "code",
   "execution_count": 16,
   "metadata": {
    "slideshow": {
     "slide_type": "slide"
    }
   },
   "outputs": [],
   "source": [
    "for (const auto& e : w) {\n",
    "    // do something\n",
    "}"
   ]
  },
  {
   "cell_type": "markdown",
   "metadata": {
    "slideshow": {
     "slide_type": "slide"
    }
   },
   "source": [
    "## recommendations for auto variables\n",
    "\n",
    "- Use auto where required\n",
    "- Use auto where complex names do not add clarity\n",
    "```cpp\n",
    "for (typename vector<my_class>::const_iterator f = v.begin(), l = v.end;\n",
    "     f != l; ++f) {\n",
    "```\n",
    "```cpp\n",
    "for (auto f = v.begin(), l = v.end(); f != l; ++f) {\n",
    "```\n",
    "- `auto` can make code less brittle to small changes (like size of integral result)\n",
    "- Use for structured binding (better than any alternative)\n",
    "\n",
    "\n",
    "- Otherwise it becomes a matter of taste. Some people recommend using `auto` almost never, some people recommend using `auto` always. If it makes your code more clear, use it, otherwise do not, but avoid bikeshedding."
   ]
  },
  {
   "cell_type": "markdown",
   "metadata": {
    "slideshow": {
     "slide_type": "slide"
    }
   },
   "source": [
    "## recommendations for auto function results\n",
    "\n",
    "- Use trailing result types except for `bool` and `void`\n",
    "```cpp\n",
    "auto some_function() -> some_type;\n",
    "bool is_something();\n",
    "void got_nothin();\n",
    "```\n",
    "    - code aligns better, and it is easier to read\n",
    "    - avoids having trailing result types breaking the style when required\n",
    "- Don't use auto results unless required, or naming the type adds nothing\n",
    "```cpp\n",
    "auto some_function() {\n",
    "    //...\n",
    "    return f(g(a + y)); // don't make me figure out this type!\n",
    "}\n",
    "```\n",
    "    - Nearly every time I've omitted the result, I've regretted it "
   ]
  },
  {
   "cell_type": "markdown",
   "metadata": {
    "slideshow": {
     "slide_type": "slide"
    }
   },
   "source": [
    "## homework\n",
    "\n",
    "- Experiment with `auto` variables and trailing return types in your project\n",
    "- Find some cases where you think it improves the code readability\n",
    "- Find some cases where you think it hinders the code readability\n",
    "- Write up examples of both on the [wiki](git.corp.adobe.com/better-code/class/wiki)"
   ]
  }
 ],
 "metadata": {
  "celltoolbar": "Slideshow",
  "kernelspec": {
   "display_name": "C++17",
   "language": "C++17",
   "name": "xcpp17"
  },
  "language_info": {
   "codemirror_mode": "text/x-c++src",
   "file_extension": ".cpp",
   "mimetype": "text/x-c++src",
   "name": "c++",
   "version": "17"
  },
  "toc": {
   "nav_menu": {},
   "number_sections": true,
   "sideBar": true,
   "skip_h1_title": false,
   "title_cell": "Table of Contents",
   "title_sidebar": "Contents",
   "toc_cell": false,
   "toc_position": {},
   "toc_section_display": true,
   "toc_window_display": false
  }
 },
 "nbformat": 4,
 "nbformat_minor": 4
}
