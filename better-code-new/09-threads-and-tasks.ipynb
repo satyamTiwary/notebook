{
 "cells": [
  {
   "cell_type": "code",
   "execution_count": 1,
   "metadata": {
    "slideshow": {
     "slide_type": "skip"
    }
   },
   "outputs": [],
   "source": [
    "#include <unordered_set>\n",
    "#include <string>\n",
    "#include <iostream>\n",
    "#include <mutex>\n",
    "#include <thread>\n",
    "#include <condition_variable>\n",
    "\n",
    "using namespace std;"
   ]
  },
  {
   "cell_type": "markdown",
   "metadata": {
    "slideshow": {
     "slide_type": "skip"
    },
    "toc": true
   },
   "source": [
    "<h1>Table of Contents<span class=\"tocSkip\"></span></h1>\n",
    "<div class=\"toc\" style=\"margin-top: 1em;\"><ul class=\"toc-item\"><li><span><a href=\"#Threads\" data-toc-modified-id=\"Threads-1\"><span class=\"toc-item-num\">1&nbsp;&nbsp;</span>Threads</a></span><ul class=\"toc-item\"><li><span><a href=\"#Why-Threads?\" data-toc-modified-id=\"Why-Threads?-1.1\"><span class=\"toc-item-num\">1.1&nbsp;&nbsp;</span>Why Threads?</a></span></li><li><span><a href=\"#Amdahl's-Law\" data-toc-modified-id=\"Amdahl's-Law-1.2\"><span class=\"toc-item-num\">1.2&nbsp;&nbsp;</span>Amdahl's Law</a></span></li><li><span><a href=\"#Serialization-&amp;-Thread-Safety\" data-toc-modified-id=\"Serialization-&amp;-Thread-Safety-1.3\"><span class=\"toc-item-num\">1.3&nbsp;&nbsp;</span>Serialization &amp; Thread Safety</a></span></li><li><span><a href=\"#Mutex-Model-of-Serialization\" data-toc-modified-id=\"Mutex-Model-of-Serialization-1.4\"><span class=\"toc-item-num\">1.4&nbsp;&nbsp;</span>Mutex Model of Serialization</a></span></li><li><span><a href=\"#Sequential-Processes\" data-toc-modified-id=\"Sequential-Processes-1.5\"><span class=\"toc-item-num\">1.5&nbsp;&nbsp;</span>Sequential Processes</a></span><ul class=\"toc-item\"><li><span><a href=\"#Advantages-of-Sequential-Processes-Model\" data-toc-modified-id=\"Advantages-of-Sequential-Processes-Model-1.5.1\"><span class=\"toc-item-num\">1.5.1&nbsp;&nbsp;</span>Advantages of Sequential Processes Model</a></span></li></ul></li><li><span><a href=\"#Homework\" data-toc-modified-id=\"Homework-1.6\"><span class=\"toc-item-num\">1.6&nbsp;&nbsp;</span>Homework</a></span></li></ul></li></ul></div>"
   ]
  },
  {
   "cell_type": "markdown",
   "metadata": {
    "slideshow": {
     "slide_type": "slide"
    }
   },
   "source": [
    "# Threads\n",
    "\n",
    "- Execution context consisting of a stack and processor state running in parallel, or concurrent, to other threads\n",
    "    - When referring to threads we are referring to _preemptive threads_ which can be scheduled at the instruction level by the OS"
   ]
  },
  {
   "cell_type": "markdown",
   "metadata": {
    "slideshow": {
     "slide_type": "slide"
    }
   },
   "source": [
    "## Why Threads?\n",
    "\n",
    "- Interactivity and Responsiveness: _Concurrency_, doing multiple things at once\n",
    "    - save in the background\n",
    "- Performance: _Parallelism_, fully utilizing the hardware to perform tasks faster\n",
    "    - Photoshop _bottlenecks_, image processing routines"
   ]
  },
  {
   "cell_type": "markdown",
   "metadata": {
    "slideshow": {
     "slide_type": "slide"
    }
   },
   "source": [
    "- Threads are one foundational mechanism\n",
    "- Other mechanisms:\n",
    "    - concurrency and parallelism\n",
    "        - OS processes\n",
    "    - parallelism\n",
    "        - vectorization (SIMD)\n",
    "        - GPU and coprocessors\n",
    "    - concurrency\n",
    "        - fibers (cooperative threads, _stack-full_ coroutines)\n",
    "        - coroutines (_stack-less_)\n",
    "        - callbacks\n",
    "        - continuations\n",
    "        - channels\n",
    "        - task schedulers (thread pools)\n",
    "\n",
    "- concurrency mechanisms can be combined with parallel mechanisms, especially threads, to reduce cost of concurrency through threads alone"
   ]
  },
  {
   "cell_type": "markdown",
   "metadata": {
    "slideshow": {
     "slide_type": "slide"
    }
   },
   "source": [
    "![Unlocking Performance](img/machine-mips.png)"
   ]
  },
  {
   "cell_type": "markdown",
   "metadata": {
    "slideshow": {
     "slide_type": "skip"
    }
   },
   "source": [
    "## Amdahl's Law"
   ]
  },
  {
   "cell_type": "markdown",
   "metadata": {
    "slideshow": {
     "slide_type": "slide"
    }
   },
   "source": [
    "![Amdahl's Law](img/2017-01-18-concurrency/2017-01-18-concurrency.001.png)"
   ]
  },
  {
   "cell_type": "markdown",
   "metadata": {
    "slideshow": {
     "slide_type": "slide"
    }
   },
   "source": [
    "![Amdahl's Law](img/2017-01-18-concurrency/2017-01-18-concurrency.002.png)"
   ]
  },
  {
   "cell_type": "markdown",
   "metadata": {
    "slideshow": {
     "slide_type": "slide"
    }
   },
   "source": [
    " - Some amount of serialization is unavoidable\n",
    "     - The memory bus is a shared resource\n",
    "     - Heap allocations require some serialization\n",
    "     - Lock free constructs such as atomics are serialized\n",
    "     - Screen resources, main event queue, are serialized"
   ]
  },
  {
   "cell_type": "markdown",
   "metadata": {
    "slideshow": {
     "slide_type": "slide"
    }
   },
   "source": [
    "## Serialization & Thread Safety\n",
    "\n",
    "- Serialization is required when one thread is modifying memory while another thread is reading or modifying the same memory location"
   ]
  },
  {
   "cell_type": "markdown",
   "metadata": {
    "slideshow": {
     "slide_type": "fragment"
    }
   },
   "source": [
    "- _thread safe_ object instances can be safely shared between threads\n",
    "    - thread safety may apply to a subset of the operations on an object\n",
    "    - `const` objects, including a reference to a `const` object, is assumed to not be mutable for the duration of use and so can be safely shared\n",
    "        - A `mutable` data member _requires_ synchronization\n",
    "            - i.e. a cache\n",
    "    - The standard library assumes that `const` implies thread safe\n",
    "    "
   ]
  },
  {
   "cell_type": "code",
   "execution_count": 2,
   "metadata": {
    "slideshow": {
     "slide_type": "slide"
    }
   },
   "outputs": [],
   "source": [
    "class table {\n",
    "    const string _names[4]{\n",
    "        \"Able\",\n",
    "        \"Bill\",\n",
    "        \"Colin\",\n",
    "        \"Zack\"\n",
    "    };\n",
    "    mutable string* _cache = nullptr; // Not thread safe!\n",
    "public:\n",
    "    size_t lookup(const string& x) const {\n",
    "        if (_cache && *_cache == x) return _cache - begin(_names);\n",
    "        return lower_bound(begin(_names), end(_names), x) - begin(_names);\n",
    "    }\n",
    "};"
   ]
  },
  {
   "cell_type": "markdown",
   "metadata": {
    "slideshow": {
     "slide_type": "slide"
    }
   },
   "source": [
    "- _conditionally thread safe_ object instances can be safely used by a single thread per instance\n",
    "    - This is the default behavior unless otherwise specified\n",
    "    - _As thread safe as an `int`_\n",
    "    "
   ]
  },
  {
   "cell_type": "markdown",
   "metadata": {
    "slideshow": {
     "slide_type": "slide"
    }
   },
   "source": [
    "- _not thread safe_ object instances must all be used by the same, or a specific, thread\n",
    "    - This implies unsynchronized shared state between instance\n",
    "        - shared pointers to unsynchronized mutable objects\n",
    "        - shared access to unsynchronized global variables\n",
    "        - unsynchronized mutable members"
   ]
  },
  {
   "cell_type": "markdown",
   "metadata": {
    "slideshow": {
     "slide_type": "fragment"
    }
   },
   "source": [
    "- All current standard containers are _conditionally_ thread safe"
   ]
  },
  {
   "cell_type": "markdown",
   "metadata": {
    "slideshow": {
     "slide_type": "slide"
    }
   },
   "source": [
    "## Mutex Model of Serialization\n",
    "\n",
    "- To make a _not thread safe_ class _conditionally thread safe_ we can use a `mutex`"
   ]
  },
  {
   "cell_type": "code",
   "execution_count": 3,
   "metadata": {
    "slideshow": {
     "slide_type": "slide"
    }
   },
   "outputs": [
    {
     "name": "stdout",
     "output_type": "stream",
     "text": [
      "Hello\n"
     ]
    }
   ],
   "source": [
    "{\n",
    "    class interned_string {\n",
    "        static auto pool() -> unordered_set<string>& {\n",
    "            static unordered_set<std::string> result;\n",
    "            return result;\n",
    "        }\n",
    "\n",
    "        const std::string* _string;\n",
    "    public:\n",
    "        interned_string(const string& a) : _string(&*pool().insert(a).first) {}\n",
    "        const string& string() const { return *_string; }\n",
    "    };\n",
    "\n",
    "    interned_string str(\"Hello\"s);\n",
    "    cout << str.string() << endl;\n",
    "}"
   ]
  },
  {
   "cell_type": "markdown",
   "metadata": {
    "slideshow": {
     "slide_type": "slide"
    }
   },
   "source": [
    "```cpp\n",
    "thread t([]{\n",
    "    interned_string str(\"Hello\"s);\n",
    "});\n",
    "\n",
    "interned_string str(\"Hello\"s);\n",
    "cout << str.string() << endl;\n",
    "\n",
    "t.join();\n",
    "```"
   ]
  },
  {
   "cell_type": "markdown",
   "metadata": {
    "slideshow": {
     "slide_type": "fragment"
    }
   },
   "source": [
    "```\n",
    "==================\n",
    "WARNING: ThreadSanitizer: data race (pid=16636)\n",
    "  Write of size 8 at 0x0001000688c8 by main thread:\n",
    "  * #0 std::__1::__hash_table<std::__1::basic_string<char, std::__1::char_traits<char>, std::__1::allocator<char> >, std::__1::hash<std::__1::basic_string<char, std::__1::char_traits<char>, std::__1::allocator<char> > >, std::__1::equal_to<std::__1::basic_string<char, std::__1::char_traits<char>, std::__1::allocator<char> > >, std::__1::allocator<std::__1::basic_string<char, std::__1::char_traits<char>, std::__1::allocator<char> > > >::__rehash(unsigned long) __hash_table:2122 (scratch:x86_64+0x1000232a8)\n",
    "    #1 std::__1::__hash_table<std::__1::basic_string<char, std::__1::char_traits<char>, std::__1::allocator<char> >, std::__1::hash<std::__1::basic_string<char, std::__1::char_traits<char>, std::__1::allocator<char> > >, std::__1::equal_to<std::__1::basic_string<char, std::__1::char_traits<char>, std::__1::allocator<char> > >, std::__1::allocator<std::__1::basic_string<char, std::__1::char_traits<char>, std::__1::allocator<char> > > >::rehash(unsigned long) __hash_table:2098 (scratch:x86_64+0x10001cb4a)\n",
    "    #2 interned_string::interned_string(std::__1::basic_string<char, std::__1::char_traits<char>, std::__1::allocator<char> > const&) __hash_table:1980 (scratch:x86_64+0x10000ee20)\n",
    "    #3 interned_string::interned_string(std::__1::basic_string<char, std::__1::char_traits<char>, std::__1::allocator<char> > const&) main.cpp:174 (scratch:x86_64+0x1000026a1)\n",
    "    #4 main main.cpp:184 (scratch:x86_64+0x1000018cd)\n",
    "\n",
    "  Previous read of size 8 at 0x0001000688c8 by thread T4:\n",
    "  * #0 interned_string::interned_string(std::__1::basic_string<char, std::__1::char_traits<char>, std::__1::allocator<char> > const&) __hash_table:806 (scratch:x86_64+0x10000a137)\n",
    "    #1 interned_string::interned_string(std::__1::basic_string<char, std::__1::char_traits<char>, std::__1::allocator<char> > const&) main.cpp:174 (scratch:x86_64+0x1000026a1)\n",
    "    #2 main::$_0::operator()() const main.cpp:181 (scratch:x86_64+0x10003ed72)\n",
    "    #3 void* std::__1::__thread_proxy<std::__1::tuple<std::__1::unique_ptr<std::__1::__thread_struct, std::__1::default_delete<std::__1::__thread_struct> >, main::$_0> >(void*) type_traits:4291 (scratch:x86_64+0x10003db4b)\n",
    "\n",
    "  Issue is caused by frames marked with \"*\".\n",
    "\n",
    "  Location is global 'interned_string::pool()::result' at 0x0001000688c0 (scratch+0x0001000688c8)\n",
    "\n",
    "  Thread T4 (tid=14404692, running) created by main thread at:\n",
    "    #0 pthread_create <null> (libclang_rt.tsan_osx_dynamic.dylib:x86_64h+0x2a34d)\n",
    "    #1 std::__1::thread::thread<main::$_0, void>(main::$_0&&) __threading_support:310 (scratch:x86_64+0x10003a63e)\n",
    "    #2 std::__1::thread::thread<main::$_0, void>(main::$_0&&) thread:354 (scratch:x86_64+0x1000025c1)\n",
    "    #3 main main.cpp:180 (scratch:x86_64+0x1000014fe)\n",
    "\n",
    "SUMMARY: ThreadSanitizer: data race __hash_table:2122 in std::__1::__hash_table<std::__1::basic_string<char, std::__1::char_traits<char>, std::__1::allocator<char> >, std::__1::hash<std::__1::basic_string<char, std::__1::char_traits<char>, std::__1::allocator<char> > >, std::__1::equal_to<std::__1::basic_string<char, std::__1::char_traits<char>, std::__1::allocator<char> > >, std::__1::allocator<std::__1::basic_string<char, std::__1::char_traits<char>, std::__1::allocator<char> > > >::__rehash(unsigned long)\n",
    "==================\n",
    "ThreadSanitizer report breakpoint hit. Use 'thread info -s' to get extended information about the report.\n",
    "(lldb)\n",
    "```"
   ]
  },
  {
   "cell_type": "markdown",
   "metadata": {
    "slideshow": {
     "slide_type": "slide"
    }
   },
   "source": [
    "```cpp\n",
    "bool global = false;\n",
    "thread t([&] { global = true; });\n",
    "\n",
    "cout << global << endl;\n",
    "\n",
    "t.join();\n",
    "```"
   ]
  },
  {
   "cell_type": "markdown",
   "metadata": {
    "slideshow": {
     "slide_type": "fragment"
    }
   },
   "source": [
    "```\n",
    "==================\n",
    "WARNING: ThreadSanitizer: data race (pid=16772)\n",
    "  Read of size 1 at 0x7ffeefbff45b by main thread:\n",
    "  * #0 main main.cpp:181 (scratch:x86_64+0x100000cff)\n",
    "\n",
    "  Previous write of size 1 at 0x7ffeefbff45b by thread T4:\n",
    "  * #0 main::$_0::operator()() const main.cpp:180 (scratch:x86_64+0x10001d515)\n",
    "    #1 void* std::__1::__thread_proxy<std::__1::tuple<std::__1::unique_ptr<std::__1::__thread_struct, std::__1::default_delete<std::__1::__thread_struct> >, main::$_0> >(void*) type_traits:4291 (scratch:x86_64+0x10001c64f)\n",
    "\n",
    "  Issue is caused by frames marked with \"*\".\n",
    "\n",
    "  Location is stack of main thread.\n",
    "\n",
    "  Thread T4 (tid=14425077, finished) created by main thread at:\n",
    "    #0 pthread_create <null> (libclang_rt.tsan_osx_dynamic.dylib:x86_64h+0x2a34d)\n",
    "    #1 std::__1::thread::thread<main::$_0, void>(main::$_0&&) __threading_support:310 (scratch:x86_64+0x10001906b)\n",
    "    #2 std::__1::thread::thread<main::$_0, void>(main::$_0&&) thread:354 (scratch:x86_64+0x100001991)\n",
    "    #3 main main.cpp:180 (scratch:x86_64+0x100000c09)\n",
    "\n",
    "SUMMARY: ThreadSanitizer: data race main.cpp:181 in main\n",
    "==================\n",
    "ThreadSanitizer report breakpoint hit. Use 'thread info -s' to get extended information about the report.\n",
    "(lldb)\n",
    "```"
   ]
  },
  {
   "cell_type": "code",
   "execution_count": 4,
   "metadata": {
    "slideshow": {
     "slide_type": "slide"
    }
   },
   "outputs": [],
   "source": [
    "class interned_string {\n",
    "    struct shared_pool {\n",
    "        mutex _mutex;\n",
    "        unordered_set<string> _pool;\n",
    "\n",
    "        const string* insert(const string& a) {\n",
    "            lock_guard<mutex> lock(_mutex);\n",
    "            return &*_pool.insert(a).first;\n",
    "        }\n",
    "    };\n",
    "\n",
    "    static auto pool() -> shared_pool& {\n",
    "        static shared_pool result;\n",
    "        return result;\n",
    "    }\n",
    "\n",
    "    const std::string* _string;\n",
    "public:\n",
    "    interned_string(const string& a) : _string(pool().insert(a)) {}\n",
    "    const string& string() const { return *_string; }\n",
    "};"
   ]
  },
  {
   "cell_type": "code",
   "execution_count": 5,
   "metadata": {
    "slideshow": {
     "slide_type": "slide"
    }
   },
   "outputs": [
    {
     "name": "stdout",
     "output_type": "stream",
     "text": [
      "Hello\n"
     ]
    }
   ],
   "source": [
    "thread t([]{\n",
    "    interned_string str(\"Hello\"s);\n",
    "});\n",
    "\n",
    "interned_string str(\"Hello\"s);\n",
    "cout << str.string() << '\\n';\n",
    "\n",
    "t.join();"
   ]
  },
  {
   "cell_type": "markdown",
   "metadata": {
    "slideshow": {
     "slide_type": "slide"
    }
   },
   "source": [
    "![mutex](img/mutex.png)"
   ]
  },
  {
   "cell_type": "markdown",
   "metadata": {
    "slideshow": {
     "slide_type": "slide"
    }
   },
   "source": [
    "> “It can be shown that programs that correctly use mutexes and `memory_order_seq_cst` operations to prevent all data races and use no other synchronization operations behave as if the operations executed by their constituent threads were simply interleaved, with each value computation of an object being taken from the last side effect on that object in that interleaving. This is normally referred to as ‘sequential consistency.’”\n",
    "– C++11 Standard 1.10.21"
   ]
  },
  {
   "cell_type": "markdown",
   "metadata": {
    "slideshow": {
     "slide_type": "slide"
    }
   },
   "source": [
    "## Sequential Processes\n",
    "\n",
    "- In a concurrent system a _task_ is a unit of work\n",
    "    - i.e. the single execution of a function object\n",
    "- A _sequential process_ is a sequence of tasks\n",
    "- The correct use of mutexes can be replaced with a sequential process"
   ]
  },
  {
   "cell_type": "code",
   "execution_count": 6,
   "metadata": {
    "slideshow": {
     "slide_type": "slide"
    }
   },
   "outputs": [],
   "source": [
    "namespace bcc {\n",
    "\n",
    "class sequential_process {\n",
    "    using task = function<void()>;\n",
    "\n",
    "    mutex _mutex;\n",
    "    condition_variable _condition;\n",
    "    deque<task> _queue;\n",
    "    bool _done = false;\n",
    "\n",
    "    void run_loop();\n",
    "\n",
    "    thread _thread{[this] { run_loop(); }};\n",
    "\n",
    "public:\n",
    "    ~sequential_process();\n",
    "    void async(task f);\n",
    "};\n",
    "\n",
    "} // namespace bcc"
   ]
  },
  {
   "cell_type": "code",
   "execution_count": 7,
   "metadata": {
    "slideshow": {
     "slide_type": "slide"
    }
   },
   "outputs": [],
   "source": [
    "namespace bcc {\n",
    "\n",
    "sequential_process::~sequential_process() {\n",
    "    {\n",
    "        lock_guard<mutex> lock(_mutex);\n",
    "        _done = true;\n",
    "    }\n",
    "    _condition.notify_one();\n",
    "    _thread.join();\n",
    "}\n",
    "\n",
    "} // namespace bcc"
   ]
  },
  {
   "cell_type": "code",
   "execution_count": 8,
   "metadata": {
    "slideshow": {
     "slide_type": "slide"
    }
   },
   "outputs": [],
   "source": [
    "namespace bcc {\n",
    "\n",
    "void sequential_process::async(task f) {\n",
    "    {\n",
    "        lock_guard<mutex> lock(_mutex);\n",
    "        _queue.push_back(move(f));\n",
    "    }\n",
    "    _condition.notify_one();\n",
    "}\n",
    "    \n",
    "} // namespace bcc"
   ]
  },
  {
   "cell_type": "code",
   "execution_count": 9,
   "metadata": {
    "slideshow": {
     "slide_type": "slide"
    }
   },
   "outputs": [],
   "source": [
    "namespace bcc {\n",
    "\n",
    "void sequential_process::run_loop() {\n",
    "    while (true) {\n",
    "        task work;\n",
    "        {\n",
    "            unique_lock<mutex> lock(_mutex);\n",
    "\n",
    "            while (_queue.empty() && !_done) {\n",
    "                _condition.wait(lock);\n",
    "            }\n",
    "\n",
    "            if (_queue.empty()) return;\n",
    "\n",
    "            work = move(_queue.front());\n",
    "            _queue.pop_front();\n",
    "        }\n",
    "        work();\n",
    "    }\n",
    "}\n",
    "    \n",
    "} // namespace bcc"
   ]
  },
  {
   "cell_type": "code",
   "execution_count": 10,
   "metadata": {
    "slideshow": {
     "slide_type": "skip"
    }
   },
   "outputs": [],
   "source": [
    "using namespace bcc;"
   ]
  },
  {
   "cell_type": "code",
   "execution_count": 11,
   "metadata": {
    "slideshow": {
     "slide_type": "slide"
    }
   },
   "outputs": [
    {
     "name": "stdout",
     "output_type": "stream",
     "text": [
      "p1-begin\n",
      "  p2-begin\n",
      "  p2-step_1\n",
      "  p2-step_2\n",
      "  p2-end\n",
      "p1-step_1\n",
      "p1-step_2\n",
      "p1-end\n"
     ]
    }
   ],
   "source": [
    "{\n",
    "sequential_process printer;\n",
    "sequential_process p1;\n",
    "sequential_process p2;\n",
    "p1.async([&] { printer.async([] { cout << \"p1-begin\\n\"; });});\n",
    "p1.async([&] { printer.async([] { cout << \"p1-step_1\\n\"; });});\n",
    "p1.async([&] { printer.async([] { cout << \"p1-step_2\\n\"; });});\n",
    "p1.async([&] { printer.async([] { cout << \"p1-end\\n\"; });});\n",
    "\n",
    "p2.async([&] { printer.async([] { cout << \"  p2-begin\\n\"; });});\n",
    "p2.async([&] { printer.async([] { cout << \"  p2-step_1\\n\"; });});\n",
    "p2.async([&] { printer.async([] { cout << \"  p2-step_2\\n\"; });});\n",
    "p2.async([&] { printer.async([] { cout << \"  p2-end\\n\"; });});\n",
    "}"
   ]
  },
  {
   "cell_type": "markdown",
   "metadata": {
    "slideshow": {
     "slide_type": "notes"
    }
   },
   "source": [
    "Comment that it is important for printer to be destructed last."
   ]
  },
  {
   "cell_type": "markdown",
   "metadata": {
    "slideshow": {
     "slide_type": "slide"
    }
   },
   "source": [
    "### Advantages of Sequential Processes Model\n",
    "\n",
    "- Significant body of research into writing correct Communicating Sequential Processes\n",
    "    - C. A. R. Hoare's work on CSP is a major reason Hoare is Turing Award winner\n",
    "    - [http://www.usingcsp.com/cspbook.pdf](http://www.usingcsp.com/cspbook.pdf)\n",
    "- No explicit synchronization primitives or associated errors"
   ]
  },
  {
   "cell_type": "markdown",
   "metadata": {
    "slideshow": {
     "slide_type": "slide"
    }
   },
   "source": [
    "- Serialization time is fixed to operations under the lock\n",
    "\n",
    "```cpp\n",
    "{\n",
    "    lock_guard<mutex> lock(_mutex);\n",
    "    _queue.push_back(move(f));\n",
    "}\n",
    "```\n",
    "---\n",
    "```cpp\n",
    "{\n",
    "    unique_lock<mutex> lock(_mutex);\n",
    "\n",
    "    while (_queue.empty() && !_done) {\n",
    "        _condition.wait(lock);\n",
    "    }\n",
    "\n",
    "    if (_queue.empty()) return;\n",
    "\n",
    "    work = move(_queue.front());\n",
    "    _queue.pop_front();\n",
    "}\n",
    "```\n",
    "- Reducing overhead and time under lock improves performance"
   ]
  },
  {
   "cell_type": "markdown",
   "metadata": {
    "slideshow": {
     "slide_type": "slide"
    }
   },
   "source": [
    "- With a mutex, more work done in a task under a lock decreases performance dramatically\n",
    "- With a sequential process, more done in the task increases performance by reducing amortized overhead\n",
    "    - apollo is written as a pair of communicating sequential processes\n",
    "        - the core is _all_ of Photoshop\n",
    "        - the surface is the UI thread"
   ]
  },
  {
   "cell_type": "markdown",
   "metadata": {
    "slideshow": {
     "slide_type": "slide"
    }
   },
   "source": [
    "## Homework\n",
    "\n",
    "- Rewrite intern_string::shared_pool as a sequential process\n",
    "    - Include a paragraph about the pros/cons of doing so\n",
    "- Bonus: identify as many areas for improvement in the sequential process implementation\n",
    "    - Include prose on the wiki or send a pull request\n",
    "    \n",
    "[https://git.corp.adobe.com/better-code/class/blob/master/09-threads-and-tasks.cpp](https://git.corp.adobe.com/better-code/class/blob/master/09-threads-and-tasks.cpp)"
   ]
  }
 ],
 "metadata": {
  "celltoolbar": "Slideshow",
  "kernelspec": {
   "display_name": "C++17",
   "language": "C++17",
   "name": "xcpp17"
  },
  "language_info": {
   "codemirror_mode": "text/x-c++src",
   "file_extension": ".cpp",
   "mimetype": "text/x-c++src",
   "name": "c++",
   "version": "17"
  },
  "toc": {
   "nav_menu": {
    "height": "174px",
    "width": "264px"
   },
   "number_sections": true,
   "sideBar": true,
   "skip_h1_title": false,
   "toc_cell": true,
   "toc_position": {},
   "toc_section_display": "block",
   "toc_window_display": false
  }
 },
 "nbformat": 4,
 "nbformat_minor": 4
}
