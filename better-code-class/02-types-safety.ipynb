{
 "cells": [
  {
   "cell_type": "code",
   "execution_count": 1,
   "metadata": {
    "slideshow": {
     "slide_type": "skip"
    }
   },
   "outputs": [],
   "source": [
    "#include \"../common.hpp\""
   ]
  },
  {
   "cell_type": "markdown",
   "metadata": {
    "slideshow": {
     "slide_type": "slide"
    }
   },
   "source": [
    "# Types and Safety\n",
    "\n",
    "**Goal: Write _complete_, _expressive_, and _efficient_ types**"
   ]
  },
  {
   "cell_type": "markdown",
   "metadata": {
    "slideshow": {
     "slide_type": "slide"
    }
   },
   "source": [
    "## Exercises"
   ]
  },
  {
   "cell_type": "markdown",
   "metadata": {
    "slideshow": {
     "slide_type": "skip"
    }
   },
   "source": [
    "**SKIP** Following cells are skipped for workshop"
   ]
  },
  {
   "cell_type": "markdown",
   "metadata": {
    "slideshow": {
     "slide_type": "skip"
    },
    "tags": [
     "exercise"
    ]
   },
   "source": [
    "**Exercise:** Find a type in your project which is not equationally complete and make it so."
   ]
  },
  {
   "cell_type": "markdown",
   "metadata": {
    "slideshow": {
     "slide_type": "skip"
    }
   },
   "source": [
    "- Why?\n",
    "    - An equationally complete type is easier to test\n",
    "        - If you cannot read a property, how do you validate it?\n",
    "    - Considering how to make a type equationally complete forces you to think through the properties of the type"
   ]
  },
  {
   "cell_type": "markdown",
   "metadata": {
    "slideshow": {
     "slide_type": "skip"
    }
   },
   "source": [
    "- Considerations\n",
    "    - Only properties with associated constraints (invariants) and relationships require accessors member functions\n",
    "    - Providing direct data access is preferred to boiler plate _getters and setters_\n",
    "    - The Objective-C naming conventions can make an API more clear\n",
    "        - Reading a property is simply the name of the property, i.e. `property()`\n",
    "        - Writing a property is done with `set_property()`"
   ]
  },
  {
   "cell_type": "markdown",
   "metadata": {
    "slideshow": {
     "slide_type": "skip"
    }
   },
   "source": [
    "```cpp\n",
    "v.resize(10);\n",
    "auto s = v.size();\n",
    "\n",
    "v.reserve(10);\n",
    "auto s = v.capacity();\n",
    "```\n",
    "vs.\n",
    "```cpp\n",
    "v.set_size(10);\n",
    "auto s = v.size();\n",
    "\n",
    "v.set_capacity(10);\n",
    "auto s = v.capacity();\n",
    "```"
   ]
  },
  {
   "cell_type": "markdown",
   "metadata": {
    "slideshow": {
     "slide_type": "slide"
    },
    "tags": [
     "exercise"
    ]
   },
   "source": [
    "**Exercise:** `my_type` contains a bug. Find the bug. Fix it using at least two different\n",
    "approaches. What are the trade-offs?"
   ]
  },
  {
   "cell_type": "code",
   "execution_count": 2,
   "metadata": {
    "slideshow": {
     "slide_type": "slide"
    }
   },
   "outputs": [],
   "source": [
    "namespace library {\n",
    "\n",
    "class my_type {\n",
    "    struct implementation;             // forward declaration\n",
    "    implementation* _remote = nullptr; // remote part\n",
    "public:\n",
    "    // declare the basis operations - implementation is in a .cpp file\n",
    "    my_type(int x, int y);\n",
    "    ~my_type();\n",
    "    my_type(const my_type&);\n",
    "    my_type& operator=(const my_type&);\n",
    "\n",
    "    my_type(my_type&& a) noexcept : _remote{a._remote} { a._remote = nullptr; }\n",
    "    my_type& operator=(my_type&& a) noexcept;\n",
    "};\n",
    "\n",
    "} // namespace library"
   ]
  },
  {
   "cell_type": "code",
   "execution_count": 3,
   "metadata": {
    "slideshow": {
     "slide_type": "slide"
    }
   },
   "outputs": [],
   "source": [
    "namespace library {\n",
    "\n",
    "struct my_type::implementation {\n",
    "    int _x;\n",
    "    int _y;\n",
    "    //...\n",
    "};\n",
    "\n",
    "my_type::my_type(int x, int y) : _remote{new implementation{x, y}} {}\n",
    "my_type::~my_type() { delete _remote; }\n",
    "my_type::my_type(const my_type& a) : _remote{new implementation{*a._remote}} {}\n",
    "my_type& my_type::operator=(const my_type& a) {\n",
    "    *_remote = *a._remote;\n",
    "    return *this;\n",
    "}\n",
    "my_type& my_type::operator=(my_type&& a) noexcept {\n",
    "    delete _remote;\n",
    "    _remote = a._remote;\n",
    "    a._remote = nullptr;\n",
    "    return *this;\n",
    "}\n",
    "\n",
    "} // namespace library"
   ]
  },
  {
   "cell_type": "markdown",
   "metadata": {
    "slideshow": {
     "slide_type": "slide"
    }
   },
   "source": [
    "- What bug?"
   ]
  },
  {
   "cell_type": "markdown",
   "metadata": {
    "slideshow": {
     "slide_type": "fragment"
    }
   },
   "source": [
    "```cpp\n",
    "{\n",
    "    using namespace library;\n",
    "    \n",
    "    my_type a{10, 20};\n",
    "    my_type b{12, 30};\n",
    "    \n",
    "    b = move(a);\n",
    "    a = b;\n",
    "}\n",
    "```"
   ]
  },
  {
   "cell_type": "markdown",
   "metadata": {
    "slideshow": {
     "slide_type": "fragment"
    }
   },
   "source": [
    "```\n",
    "input_line_9:11:6: warning: null passed to a callee that requires a non-null argument [-Wnonnull]\n",
    "    *_remote = *a._remote;\n",
    "     ^~~~~~~\n",
    "Interpreter Exception: \n",
    "```"
   ]
  },
  {
   "cell_type": "markdown",
   "metadata": {
    "slideshow": {
     "slide_type": "slide"
    }
   },
   "source": [
    "```cpp\n",
    "// b = move(a);\n",
    "\n",
    "my_type& my_type::operator=(my_type&& a) noexcept {\n",
    "    delete _remote;\n",
    "    _remote = a._remote;\n",
    "    a._remote = nullptr; // <--\n",
    "    return *this;\n",
    "}\n",
    "```"
   ]
  },
  {
   "cell_type": "markdown",
   "metadata": {},
   "source": [
    "```cpp\n",
    "// a = b;\n",
    "\n",
    "my_type& my_type::operator=(const my_type& a) {\n",
    "    *_remote = *a._remote;\n",
    "//   ^~~~~~~ nullptr dereference\n",
    "    return *this;\n",
    "}\n",
    "```"
   ]
  },
  {
   "cell_type": "markdown",
   "metadata": {},
   "source": [
    "- Some operations _must_ be valid on the otherwise unspecified state\n",
    "    - destruction\n",
    "    - copy and move assigning to the object (to establish a new value)\n",
    "    - self move assignment (for self-swap)"
   ]
  },
  {
   "cell_type": "markdown",
   "metadata": {
    "slideshow": {
     "slide_type": "slide"
    }
   },
   "source": [
    "## Safety\n",
    "\n",
    "- An object which represents an entity is _fully formed_.\n",
    "- An object which does not represent an entity is _partially formed_."
   ]
  },
  {
   "cell_type": "markdown",
   "metadata": {
    "slideshow": {
     "slide_type": "fragment"
    }
   },
   "source": [
    "- Any operation which maintains the correspondence between an object and an entity it represents is _safe_\n",
    "- An operation which loses the correspondence is _unsafe_"
   ]
  },
  {
   "cell_type": "markdown",
   "metadata": {
    "slideshow": {
     "slide_type": "fragment"
    }
   },
   "source": [
    "- There are different categories of safety\n",
    "    - i.e. _memory safety_\n",
    "        - Destroying the correspondence of unrelated objects to an entity ultimately causes the bug"
   ]
  },
  {
   "cell_type": "markdown",
   "metadata": {
    "slideshow": {
     "slide_type": "slide"
    }
   },
   "source": [
    "- An operation is _operationally safe_ if, when the operation pre-conditions are satisfied, the operation results in objects which are fully formed\n",
    "- An operation is _operationally unsafe_ if, when the operation pre-conditions are satisfied, the operation may result in an object which is not fully formed\n",
    "    - From here on, when referring to a _safe_ operation we mean _operationally safe_"
   ]
  },
  {
   "cell_type": "markdown",
   "metadata": {
    "slideshow": {
     "slide_type": "slide"
    }
   },
   "source": [
    "- As a general rule\n",
    "    - Only safe operations should be public\n",
    "    - Unsafe operations should be private\n",
    "    \n",
    "- Moving from an object _may_ leave the object in a \"valid but **unspecified**\" state\n",
    "    - _Unspecified_ is without a correspondence to an entity\n",
    "    - move is a public unsafe operation, it may leave the moved from object in a partially formed state\n",
    "    \n",
    "- There is a trade-off between safety, and efficiency\n",
    "    - Not every operation can be implemented to be both safe, and efficient (provably)"
   ]
  },
  {
   "cell_type": "markdown",
   "metadata": {
    "slideshow": {
     "slide_type": "slide"
    }
   },
   "source": [
    "- There are many examples of unsafe operations with the built in types:"
   ]
  },
  {
   "cell_type": "code",
   "execution_count": 4,
   "metadata": {
    "slideshow": {
     "slide_type": "fragment"
    }
   },
   "outputs": [
    {
     "name": "stdout",
     "output_type": "stream",
     "text": [
      "32766\n"
     ]
    }
   ],
   "source": [
    "{\n",
    "    int x; // unspecified\n",
    "    cout << x << endl;\n",
    "}"
   ]
  },
  {
   "cell_type": "code",
   "execution_count": 5,
   "metadata": {
    "slideshow": {
     "slide_type": "fragment"
    }
   },
   "outputs": [
    {
     "name": "stdout",
     "output_type": "stream",
     "text": [
      "nan\n"
     ]
    }
   ],
   "source": [
    "{\n",
    "    double x = 0.0/0.0; // explicitly undefined\n",
    "    cout << x << endl;\n",
    "}"
   ]
  },
  {
   "cell_type": "code",
   "execution_count": 6,
   "metadata": {
    "slideshow": {
     "slide_type": "slide"
    }
   },
   "outputs": [
    {
     "name": "stdout",
     "output_type": "stream",
     "text": [
      "\n"
     ]
    }
   ],
   "source": [
    "{\n",
    "    string x = \"hello world\";\n",
    "    string y = move(x); // unspecified\n",
    "    cout << x << endl;\n",
    "}"
   ]
  },
  {
   "cell_type": "code",
   "execution_count": 7,
   "metadata": {
    "slideshow": {
     "slide_type": "fragment"
    }
   },
   "outputs": [],
   "source": [
    "{\n",
    "    unique_ptr<int> x = make_unique<int>(42);\n",
    "    unique_ptr<int> y = move(x); // safe! x is guaranteed to be == nullptr\n",
    "}"
   ]
  },
  {
   "cell_type": "markdown",
   "metadata": {
    "slideshow": {
     "slide_type": "slide"
    }
   },
   "source": [
    "- After an unsafe operation where an object is left partially formed\n",
    "    - Subsequent operations are required to restore the fully formed state prior to use\n",
    "        - If the partially formed state is _explicit_ it may by used in subsequent operation but those operations must yield explicitly undefined values for later detection and handling\n",
    "        - i.e. NaN, expected, maybe-monad pattern\n",
    "    - Or the object must be destroyed"
   ]
  },
  {
   "cell_type": "markdown",
   "metadata": {
    "slideshow": {
     "slide_type": "slide"
    }
   },
   "source": [
    "- An _implicit move_, one generated by the compiler, always occurs on an expiring value\n",
    "    - This means the combined operation of `op(rv); rv.~T();` is safe\n",
    "- `std::move()` is equivalent to `static_cast<T&&>()`\n",
    "    - Explicit move is unsafe\n",
    "    - Circumventing the type system requires additional care"
   ]
  },
  {
   "cell_type": "markdown",
   "metadata": {
    "slideshow": {
     "slide_type": "slide"
    }
   },
   "source": [
    "### Fixes to copy-assignment crash\n",
    "\n",
    "- We need to be able to assign to our partially formed value\n",
    "    - Two possible options\n",
    "        - Change assignment\n",
    "        - Change move"
   ]
  },
  {
   "cell_type": "code",
   "execution_count": 8,
   "metadata": {
    "slideshow": {
     "slide_type": "skip"
    }
   },
   "outputs": [],
   "source": [
    "namespace lib3 {\n",
    "\n",
    "class my_type {\n",
    "    struct implementation;             // forward declaration\n",
    "    implementation* _remote = nullptr; // remote part\n",
    "public:\n",
    "    // declare the basis operations - implementation is in a .cpp file\n",
    "    my_type(int x, int y);\n",
    "    ~my_type();\n",
    "    my_type(const my_type&);\n",
    "    my_type& operator=(const my_type&);\n",
    "\n",
    "    my_type(my_type&& a) noexcept : _remote{a._remote} { a._remote = nullptr; }\n",
    "    my_type& operator=(my_type&& a) noexcept;\n",
    "};\n",
    "\n",
    "} // namespace lib3"
   ]
  },
  {
   "cell_type": "code",
   "execution_count": 9,
   "metadata": {
    "slideshow": {
     "slide_type": "slide"
    }
   },
   "outputs": [],
   "source": [
    "namespace lib3 {\n",
    "\n",
    "struct my_type::implementation {\n",
    "    int _x;\n",
    "    int _y;\n",
    "    //...\n",
    "};\n",
    "\n",
    "my_type::my_type(int x, int y) : _remote{new implementation{x, y}} {}\n",
    "my_type::~my_type() { delete _remote; }\n",
    "my_type::my_type(const my_type& a) : _remote{new implementation{*a._remote}} {}\n",
    "my_type& my_type::operator=(const my_type& a) {\n",
    "    if (_remote) *_remote = *a._remote;\n",
    "    else _remote = new implementation{*a._remote}; // <---\n",
    "    return *this;\n",
    "}\n",
    "my_type& my_type::operator=(my_type&& a) noexcept {\n",
    "    delete _remote;\n",
    "    _remote = a._remote;\n",
    "    a._remote = nullptr;\n",
    "    return *this;\n",
    "}\n",
    "\n",
    "} // namespace lib3"
   ]
  },
  {
   "cell_type": "code",
   "execution_count": 10,
   "metadata": {
    "slideshow": {
     "slide_type": "slide"
    }
   },
   "outputs": [],
   "source": [
    "{\n",
    "    using namespace lib3;\n",
    "    \n",
    "    my_type a{10, 20};\n",
    "    my_type b{12, 30};\n",
    "    \n",
    "    b = move(a);\n",
    "    a = b;\n",
    "}"
   ]
  },
  {
   "cell_type": "code",
   "execution_count": 11,
   "metadata": {
    "slideshow": {
     "slide_type": "skip"
    }
   },
   "outputs": [],
   "source": [
    "namespace lib4 {\n",
    "\n",
    "class my_type {\n",
    "    struct implementation;             // forward declaration\n",
    "    implementation* _remote = nullptr; // remote part\n",
    "public:\n",
    "    // declare the basis operations - implementation is in a .cpp file\n",
    "    my_type(int x, int y);\n",
    "    ~my_type();\n",
    "    my_type(const my_type&);\n",
    "    my_type& operator=(const my_type&);\n",
    "\n",
    "    my_type(my_type&& a) noexcept : _remote{a._remote} { a._remote = nullptr; }\n",
    "    my_type& operator=(my_type&& a) noexcept;\n",
    "};\n",
    "\n",
    "} // namespace lib4"
   ]
  },
  {
   "cell_type": "code",
   "execution_count": 12,
   "metadata": {
    "slideshow": {
     "slide_type": "slide"
    }
   },
   "outputs": [],
   "source": [
    "namespace lib4 {\n",
    "\n",
    "struct my_type::implementation {\n",
    "    int _x;\n",
    "    int _y;\n",
    "    //...\n",
    "};\n",
    "\n",
    "my_type::my_type(int x, int y) : _remote{new implementation{x, y}} {}\n",
    "my_type::~my_type() { delete _remote; }\n",
    "my_type::my_type(const my_type& a) : _remote{new implementation{*a._remote}} {}\n",
    "my_type& my_type::operator=(const my_type& a) {\n",
    "    *_remote = *a._remote;\n",
    "    return *this;\n",
    "}\n",
    "my_type& my_type::operator=(my_type&& a) noexcept {\n",
    "    swap(_remote, a._remote); // <----\n",
    "    return *this;\n",
    "}\n",
    "\n",
    "} // namespace lib4"
   ]
  },
  {
   "cell_type": "code",
   "execution_count": 13,
   "metadata": {},
   "outputs": [],
   "source": [
    "{\n",
    "    using namespace lib4;\n",
    "    \n",
    "    my_type a{10, 20};\n",
    "    my_type b{12, 30};\n",
    "    \n",
    "    b = move(a);\n",
    "    a = b;\n",
    "}"
   ]
  },
  {
   "cell_type": "markdown",
   "metadata": {
    "slideshow": {
     "slide_type": "slide"
    }
   },
   "source": [
    "```cpp\n",
    "{\n",
    "    using namespace lib4;\n",
    "    \n",
    "    my_type a{10, 20};\n",
    "    my_type b = move(a);\n",
    "    a = b;\n",
    "}\n",
    "```\n",
    "```\n",
    "input_line_17:11:6: warning: null passed to a callee that requires a non-null argument [-Wnonnull]\n",
    "    *_remote = *a._remote;\n",
    "     ^~~~~~~\n",
    "Interpreter Exception: \n",
    "```"
   ]
  },
  {
   "cell_type": "markdown",
   "metadata": {
    "slideshow": {
     "slide_type": "slide"
    }
   },
   "source": [
    "### Idiomatic Approach"
   ]
  },
  {
   "cell_type": "code",
   "execution_count": 14,
   "metadata": {
    "slideshow": {
     "slide_type": "skip"
    }
   },
   "outputs": [],
   "source": [
    "namespace lib5 {\n",
    "\n",
    "class my_type {\n",
    "    struct implementation;             // forward declaration\n",
    "    implementation* _remote = nullptr; // remote part\n",
    "public:\n",
    "    // declare the basis operations - implementation is in a .cpp file\n",
    "    my_type(int x, int y);\n",
    "    ~my_type();\n",
    "    my_type(const my_type&);\n",
    "    my_type& operator=(const my_type&);\n",
    "\n",
    "    my_type(my_type&& a) noexcept : _remote{a._remote} { a._remote = nullptr; }\n",
    "    my_type& operator=(my_type&& a) noexcept;\n",
    "};\n",
    "\n",
    "} // namespace lib5"
   ]
  },
  {
   "cell_type": "code",
   "execution_count": 15,
   "metadata": {
    "slideshow": {
     "slide_type": "slide"
    }
   },
   "outputs": [],
   "source": [
    "namespace lib5 {\n",
    "\n",
    "struct my_type::implementation {\n",
    "    int _x;\n",
    "    int _y;\n",
    "    //...\n",
    "};\n",
    "\n",
    "my_type::my_type(int x, int y) : _remote{new implementation{x, y}} {}\n",
    "my_type::~my_type() { delete _remote; }\n",
    "my_type::my_type(const my_type& a) : _remote{new implementation{*a._remote}} {}\n",
    "my_type& my_type::operator=(const my_type& a) {\n",
    "    return *this = my_type(a); // <--- copy and move\n",
    "}\n",
    "my_type& my_type::operator=(my_type&& a) noexcept {\n",
    "    delete _remote;\n",
    "    _remote = a._remote;\n",
    "    a._remote = nullptr;\n",
    "    return *this;\n",
    "}\n",
    "\n",
    "} // namespace lib5"
   ]
  },
  {
   "cell_type": "code",
   "execution_count": 16,
   "metadata": {
    "slideshow": {
     "slide_type": "slide"
    }
   },
   "outputs": [],
   "source": [
    "{\n",
    "    using namespace lib5;\n",
    "    \n",
    "    my_type a{10, 20};\n",
    "    my_type b{12, 30};\n",
    "    \n",
    "    b = move(a);\n",
    "    a = b;\n",
    "}\n",
    "\n",
    "{\n",
    "    using namespace lib5;\n",
    "    \n",
    "    my_type a{10, 20};\n",
    "    my_type b = move(a);\n",
    "    a = b;\n",
    "}"
   ]
  },
  {
   "cell_type": "markdown",
   "metadata": {
    "slideshow": {
     "slide_type": "slide"
    }
   },
   "source": [
    "- The idomatic solution can work with unique_ptr"
   ]
  },
  {
   "cell_type": "code",
   "execution_count": 17,
   "metadata": {
    "slideshow": {
     "slide_type": "fragment"
    }
   },
   "outputs": [],
   "source": [
    "namespace lib6 {\n",
    "\n",
    "class my_type {\n",
    "    struct implementation;\n",
    "    struct deleter {\n",
    "        void operator()(implementation*) const noexcept; // <---\n",
    "    };\n",
    "    unique_ptr<implementation, deleter> _remote;\n",
    "public:\n",
    "    // declare the basis operations - implementation is in a .cpp file\n",
    "    my_type(int x, int y); // <---\n",
    "    ~my_type() = default;\n",
    "    my_type(const my_type&); // <---\n",
    "    my_type& operator=(const my_type& a) { return *this = my_type(a); }\n",
    "\n",
    "    my_type(my_type&& a) noexcept = default;\n",
    "    my_type& operator=(my_type&& a) noexcept = default;\n",
    "};\n",
    "\n",
    "} // namespace lib6\n"
   ]
  },
  {
   "cell_type": "code",
   "execution_count": 18,
   "metadata": {
    "slideshow": {
     "slide_type": "slide"
    }
   },
   "outputs": [],
   "source": [
    "namespace lib6 {\n",
    "\n",
    "struct my_type::implementation {\n",
    "    int _x;\n",
    "    int _y;\n",
    "    //...\n",
    "};\n",
    "\n",
    "my_type::my_type(int x, int y) : _remote{new implementation{x, y}} {}\n",
    "my_type::my_type(const my_type& a) : _remote{new implementation{*a._remote}} {}\n",
    "void my_type::deleter::operator()(implementation* p) const noexcept { delete p; }\n",
    "\n",
    "} // namespace lib6"
   ]
  },
  {
   "cell_type": "code",
   "execution_count": 19,
   "metadata": {
    "slideshow": {
     "slide_type": "slide"
    }
   },
   "outputs": [],
   "source": [
    "{\n",
    "    using namespace lib6;\n",
    "    \n",
    "    my_type a{10, 20};\n",
    "    my_type b{12, 30};\n",
    "\n",
    "    b = move(a);\n",
    "    a = b;\n",
    "}\n",
    "\n",
    "{\n",
    "    using namespace lib6;\n",
    "    \n",
    "    my_type a{10, 20};\n",
    "    my_type b = move(a);\n",
    "    a = b;\n",
    "}\n"
   ]
  },
  {
   "cell_type": "markdown",
   "metadata": {
    "slideshow": {
     "slide_type": "slide"
    }
   },
   "source": [
    "### Tradeoffs\n",
    "\n",
    "- **Copy Assignment: In situ assignment (if available) or copy construct**\n",
    "- **Move Assignment: Swap**"
   ]
  },
  {
   "cell_type": "markdown",
   "metadata": {
    "slideshow": {
     "slide_type": "fragment"
    }
   },
   "source": [
    "- Performance: Faster for in situ case (saves heap allocations)\n",
    "- Object Lifetime: Not precise\n",
    "- Exception Safety: Basic Guarantee (not transactional)\n",
    "- Implementation: Complex"
   ]
  },
  {
   "cell_type": "markdown",
   "metadata": {
    "slideshow": {
     "slide_type": "fragment"
    }
   },
   "source": [
    "- **Copy Assignment: Copy construct and move assign**\n",
    "- **Move Assignment: Consume**"
   ]
  },
  {
   "cell_type": "markdown",
   "metadata": {
    "slideshow": {
     "slide_type": "fragment"
    }
   },
   "source": [
    "- Performance: Slower\n",
    "- Object Lifetime: Precise\n",
    "- Exception Safety: Strong Guarantee (transactional)\n",
    "- Implementation: Simple"
   ]
  },
  {
   "cell_type": "markdown",
   "metadata": {
    "slideshow": {
     "slide_type": "slide"
    }
   },
   "source": [
    "- Recommendation\n",
    "    - I prefer the idiomatic, simpler approach\n",
    "        - unless I have evidence of a performance issue\n",
    "        - or the type is heavily used\n",
    "    - Write it correct and simple first"
   ]
  },
  {
   "cell_type": "markdown",
   "metadata": {
    "slideshow": {
     "slide_type": "slide"
    }
   },
   "source": [
    "## Default Construction\n",
    "\n",
    "- What should the state be of a default constructed object?\n",
    "    - Should it always be fully formed?\n",
    "    \n",
    "- A common use case of a default constructed object is to create the object before we have a value to give to it:"
   ]
  },
  {
   "cell_type": "code",
   "execution_count": 20,
   "metadata": {
    "slideshow": {
     "slide_type": "skip"
    }
   },
   "outputs": [],
   "source": [
    "namespace {\n",
    "bool predicate() { return true; }\n",
    "std::pair<std::string, std::string> get_pair() { return std::make_pair<string, string>(\"Hello\", \"World\"); }\n",
    "}"
   ]
  },
  {
   "cell_type": "code",
   "execution_count": 21,
   "metadata": {
    "slideshow": {
     "slide_type": "slide"
    }
   },
   "outputs": [],
   "source": [
    "{\n",
    "    string s;\n",
    "    if (predicate()) s = \"Hello\";\n",
    "    else s = \"World\";\n",
    "}"
   ]
  },
  {
   "cell_type": "code",
   "execution_count": 22,
   "metadata": {
    "slideshow": {
     "slide_type": "fragment"
    }
   },
   "outputs": [],
   "source": [
    "{\n",
    "    string s1;\n",
    "    string s2;\n",
    "    tie(s1, s2) = get_pair();\n",
    "}"
   ]
  },
  {
   "cell_type": "markdown",
   "metadata": {
    "slideshow": {
     "slide_type": "slide"
    }
   },
   "source": [
    "- The language has facilities that make it rarely necessary to construct an object before providing a value:"
   ]
  },
  {
   "cell_type": "code",
   "execution_count": 23,
   "metadata": {
    "slideshow": {
     "slide_type": "fragment"
    }
   },
   "outputs": [],
   "source": [
    "{\n",
    "    string s = predicate() ? \"Hello\" : \"World\";\n",
    "}"
   ]
  },
  {
   "cell_type": "code",
   "execution_count": 24,
   "metadata": {
    "slideshow": {
     "slide_type": "fragment"
    }
   },
   "outputs": [],
   "source": [
    "{\n",
    "    auto [s1, s2] = get_pair();\n",
    "}"
   ]
  },
  {
   "cell_type": "markdown",
   "metadata": {
    "slideshow": {
     "slide_type": "slide"
    }
   },
   "source": [
    "- This makes having a default constructor optional\n",
    "    - But not having one can be inconvenient "
   ]
  },
  {
   "cell_type": "markdown",
   "metadata": {},
   "source": [
    "- A default constructor value is often overwritten before use\n",
    "    - As such it is inefficient to allocate memory, or acquire resources, in the default constructor"
   ]
  },
  {
   "cell_type": "markdown",
   "metadata": {
    "slideshow": {
     "slide_type": "slide"
    }
   },
   "source": [
    "- A default constructor should:\n",
    "    - Be noexcept (one way to do this is to initialize to point to a const (or constexpr) singleton)\n",
    "    - Be `constexpr`\n",
    "    - Execute in time no worse than the time proportional to the `sizeof()` the object\n",
    "    - If the object has a meaningful _zero_ or _empty_ state it should initialize to that state\n",
    "        - Otherwise it may be partially-formed"
   ]
  },
  {
   "cell_type": "code",
   "execution_count": 25,
   "metadata": {
    "slideshow": {
     "slide_type": "slide"
    }
   },
   "outputs": [],
   "source": [
    "namespace lib7 {\n",
    "\n",
    "class my_type {\n",
    "    struct implementation;\n",
    "    struct deleter {\n",
    "        void operator()(implementation*) const noexcept; // <---\n",
    "    };\n",
    "    unique_ptr<implementation, deleter> _remote;\n",
    "public:\n",
    "    // declare the basis operations - implementation is in a .cpp file\n",
    "    constexpr my_type() noexcept = default; // partially formed\n",
    "    my_type(int x, int y); // <---\n",
    "    ~my_type() = default;\n",
    "    my_type(const my_type&); // <---\n",
    "    my_type& operator=(const my_type& a) { return *this = my_type(a); }\n",
    "\n",
    "    my_type(my_type&& a) noexcept = default;\n",
    "    my_type& operator=(my_type&& a) noexcept = default;\n",
    "};\n",
    "\n",
    "} // namespace lib7"
   ]
  },
  {
   "cell_type": "markdown",
   "metadata": {
    "slideshow": {
     "slide_type": "slide"
    }
   },
   "source": [
    "- Recommendation\n",
    "    - Provide a default-ctor\n",
    "    - Avoid using it unless it has a meaningful zero or empty value"
   ]
  },
  {
   "cell_type": "markdown",
   "metadata": {
    "slideshow": {
     "slide_type": "skip"
    }
   },
   "source": [
    "**Exercise:** Look at the regular operations (copy, assignment, equality, default construction) for a type in the standard library, or a commonly used type within your project. Is the implementation correct? Complete? Efficient?"
   ]
  },
  {
   "cell_type": "markdown",
   "metadata": {
    "slideshow": {
     "slide_type": "skip"
    }
   },
   "source": [
    "### What is _mutable_?\n",
    "\n",
    "### Polymorphism will be covered later\n",
    "\n",
    "## Efficiency\n",
    "\n",
    "- An operation is _efficient_ if there is no way to implement it to use fewer resources\n",
    "    - time\n",
    "    - space\n",
    "    - energy\n",
    "    \n",
    "- Unless otherwise specified, we will use efficiency to mean _time efficiency_\n",
    "    - But in practice, where not all three can be achieved the trade-offs should be consider"
   ]
  }
 ],
 "metadata": {
  "kernelspec": {
   "display_name": "C++17",
   "language": "C++17",
   "name": "xcpp17"
  },
  "language_info": {
   "codemirror_mode": "text/x-c++src",
   "file_extension": ".cpp",
   "mimetype": "text/x-c++src",
   "name": "c++",
   "version": "17"
  },
  "toc-autonumbering": false,
  "toc-showcode": false,
  "toc-showmarkdowntxt": false,
  "toc-showtags": false
 },
 "nbformat": 4,
 "nbformat_minor": 4
}
